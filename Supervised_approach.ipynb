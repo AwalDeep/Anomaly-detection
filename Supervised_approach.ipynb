{
 "cells": [
  {
   "cell_type": "code",
   "execution_count": 1,
   "metadata": {},
   "outputs": [],
   "source": [
    "#Importing required libraries\n",
    "import pandas as pd\n",
    "import numpy as np\n",
    "import matplotlib.pyplot as plt\n",
    "import seaborn as sns\n",
    "%matplotlib inline"
   ]
  },
  {
   "cell_type": "code",
   "execution_count": 2,
   "metadata": {
    "scrolled": true
   },
   "outputs": [
    {
     "data": {
      "text/html": [
       "<div>\n",
       "<style scoped>\n",
       "    .dataframe tbody tr th:only-of-type {\n",
       "        vertical-align: middle;\n",
       "    }\n",
       "\n",
       "    .dataframe tbody tr th {\n",
       "        vertical-align: top;\n",
       "    }\n",
       "\n",
       "    .dataframe thead th {\n",
       "        text-align: right;\n",
       "    }\n",
       "</style>\n",
       "<table border=\"1\" class=\"dataframe\">\n",
       "  <thead>\n",
       "    <tr style=\"text-align: right;\">\n",
       "      <th></th>\n",
       "      <th>Time</th>\n",
       "      <th>V1</th>\n",
       "      <th>V2</th>\n",
       "      <th>V3</th>\n",
       "      <th>V4</th>\n",
       "      <th>V5</th>\n",
       "      <th>V6</th>\n",
       "      <th>V7</th>\n",
       "      <th>V8</th>\n",
       "      <th>V9</th>\n",
       "      <th>...</th>\n",
       "      <th>V21</th>\n",
       "      <th>V22</th>\n",
       "      <th>V23</th>\n",
       "      <th>V24</th>\n",
       "      <th>V25</th>\n",
       "      <th>V26</th>\n",
       "      <th>V27</th>\n",
       "      <th>V28</th>\n",
       "      <th>Amount</th>\n",
       "      <th>Class</th>\n",
       "    </tr>\n",
       "  </thead>\n",
       "  <tbody>\n",
       "    <tr>\n",
       "      <th>0</th>\n",
       "      <td>0.0</td>\n",
       "      <td>-1.359807</td>\n",
       "      <td>-0.072781</td>\n",
       "      <td>2.536347</td>\n",
       "      <td>1.378155</td>\n",
       "      <td>-0.338321</td>\n",
       "      <td>0.462388</td>\n",
       "      <td>0.239599</td>\n",
       "      <td>0.098698</td>\n",
       "      <td>0.363787</td>\n",
       "      <td>...</td>\n",
       "      <td>-0.018307</td>\n",
       "      <td>0.277838</td>\n",
       "      <td>-0.110474</td>\n",
       "      <td>0.066928</td>\n",
       "      <td>0.128539</td>\n",
       "      <td>-0.189115</td>\n",
       "      <td>0.133558</td>\n",
       "      <td>-0.021053</td>\n",
       "      <td>149.62</td>\n",
       "      <td>0</td>\n",
       "    </tr>\n",
       "    <tr>\n",
       "      <th>1</th>\n",
       "      <td>0.0</td>\n",
       "      <td>1.191857</td>\n",
       "      <td>0.266151</td>\n",
       "      <td>0.166480</td>\n",
       "      <td>0.448154</td>\n",
       "      <td>0.060018</td>\n",
       "      <td>-0.082361</td>\n",
       "      <td>-0.078803</td>\n",
       "      <td>0.085102</td>\n",
       "      <td>-0.255425</td>\n",
       "      <td>...</td>\n",
       "      <td>-0.225775</td>\n",
       "      <td>-0.638672</td>\n",
       "      <td>0.101288</td>\n",
       "      <td>-0.339846</td>\n",
       "      <td>0.167170</td>\n",
       "      <td>0.125895</td>\n",
       "      <td>-0.008983</td>\n",
       "      <td>0.014724</td>\n",
       "      <td>2.69</td>\n",
       "      <td>0</td>\n",
       "    </tr>\n",
       "    <tr>\n",
       "      <th>2</th>\n",
       "      <td>1.0</td>\n",
       "      <td>-1.358354</td>\n",
       "      <td>-1.340163</td>\n",
       "      <td>1.773209</td>\n",
       "      <td>0.379780</td>\n",
       "      <td>-0.503198</td>\n",
       "      <td>1.800499</td>\n",
       "      <td>0.791461</td>\n",
       "      <td>0.247676</td>\n",
       "      <td>-1.514654</td>\n",
       "      <td>...</td>\n",
       "      <td>0.247998</td>\n",
       "      <td>0.771679</td>\n",
       "      <td>0.909412</td>\n",
       "      <td>-0.689281</td>\n",
       "      <td>-0.327642</td>\n",
       "      <td>-0.139097</td>\n",
       "      <td>-0.055353</td>\n",
       "      <td>-0.059752</td>\n",
       "      <td>378.66</td>\n",
       "      <td>0</td>\n",
       "    </tr>\n",
       "    <tr>\n",
       "      <th>3</th>\n",
       "      <td>1.0</td>\n",
       "      <td>-0.966272</td>\n",
       "      <td>-0.185226</td>\n",
       "      <td>1.792993</td>\n",
       "      <td>-0.863291</td>\n",
       "      <td>-0.010309</td>\n",
       "      <td>1.247203</td>\n",
       "      <td>0.237609</td>\n",
       "      <td>0.377436</td>\n",
       "      <td>-1.387024</td>\n",
       "      <td>...</td>\n",
       "      <td>-0.108300</td>\n",
       "      <td>0.005274</td>\n",
       "      <td>-0.190321</td>\n",
       "      <td>-1.175575</td>\n",
       "      <td>0.647376</td>\n",
       "      <td>-0.221929</td>\n",
       "      <td>0.062723</td>\n",
       "      <td>0.061458</td>\n",
       "      <td>123.50</td>\n",
       "      <td>0</td>\n",
       "    </tr>\n",
       "    <tr>\n",
       "      <th>4</th>\n",
       "      <td>2.0</td>\n",
       "      <td>-1.158233</td>\n",
       "      <td>0.877737</td>\n",
       "      <td>1.548718</td>\n",
       "      <td>0.403034</td>\n",
       "      <td>-0.407193</td>\n",
       "      <td>0.095921</td>\n",
       "      <td>0.592941</td>\n",
       "      <td>-0.270533</td>\n",
       "      <td>0.817739</td>\n",
       "      <td>...</td>\n",
       "      <td>-0.009431</td>\n",
       "      <td>0.798278</td>\n",
       "      <td>-0.137458</td>\n",
       "      <td>0.141267</td>\n",
       "      <td>-0.206010</td>\n",
       "      <td>0.502292</td>\n",
       "      <td>0.219422</td>\n",
       "      <td>0.215153</td>\n",
       "      <td>69.99</td>\n",
       "      <td>0</td>\n",
       "    </tr>\n",
       "  </tbody>\n",
       "</table>\n",
       "<p>5 rows × 31 columns</p>\n",
       "</div>"
      ],
      "text/plain": [
       "   Time        V1        V2        V3        V4        V5        V6        V7  \\\n",
       "0   0.0 -1.359807 -0.072781  2.536347  1.378155 -0.338321  0.462388  0.239599   \n",
       "1   0.0  1.191857  0.266151  0.166480  0.448154  0.060018 -0.082361 -0.078803   \n",
       "2   1.0 -1.358354 -1.340163  1.773209  0.379780 -0.503198  1.800499  0.791461   \n",
       "3   1.0 -0.966272 -0.185226  1.792993 -0.863291 -0.010309  1.247203  0.237609   \n",
       "4   2.0 -1.158233  0.877737  1.548718  0.403034 -0.407193  0.095921  0.592941   \n",
       "\n",
       "         V8        V9  ...         V21       V22       V23       V24  \\\n",
       "0  0.098698  0.363787  ...   -0.018307  0.277838 -0.110474  0.066928   \n",
       "1  0.085102 -0.255425  ...   -0.225775 -0.638672  0.101288 -0.339846   \n",
       "2  0.247676 -1.514654  ...    0.247998  0.771679  0.909412 -0.689281   \n",
       "3  0.377436 -1.387024  ...   -0.108300  0.005274 -0.190321 -1.175575   \n",
       "4 -0.270533  0.817739  ...   -0.009431  0.798278 -0.137458  0.141267   \n",
       "\n",
       "        V25       V26       V27       V28  Amount  Class  \n",
       "0  0.128539 -0.189115  0.133558 -0.021053  149.62      0  \n",
       "1  0.167170  0.125895 -0.008983  0.014724    2.69      0  \n",
       "2 -0.327642 -0.139097 -0.055353 -0.059752  378.66      0  \n",
       "3  0.647376 -0.221929  0.062723  0.061458  123.50      0  \n",
       "4 -0.206010  0.502292  0.219422  0.215153   69.99      0  \n",
       "\n",
       "[5 rows x 31 columns]"
      ]
     },
     "execution_count": 2,
     "metadata": {},
     "output_type": "execute_result"
    }
   ],
   "source": [
    "#Load data as df\n",
    "data=pd.read_csv('creditcard.csv')\n",
    "data.head()"
   ]
  },
  {
   "cell_type": "code",
   "execution_count": 3,
   "metadata": {},
   "outputs": [
    {
     "name": "stdout",
     "output_type": "stream",
     "text": [
      "<class 'pandas.core.frame.DataFrame'>\n",
      "RangeIndex: 284807 entries, 0 to 284806\n",
      "Data columns (total 31 columns):\n",
      "Time      284807 non-null float64\n",
      "V1        284807 non-null float64\n",
      "V2        284807 non-null float64\n",
      "V3        284807 non-null float64\n",
      "V4        284807 non-null float64\n",
      "V5        284807 non-null float64\n",
      "V6        284807 non-null float64\n",
      "V7        284807 non-null float64\n",
      "V8        284807 non-null float64\n",
      "V9        284807 non-null float64\n",
      "V10       284807 non-null float64\n",
      "V11       284807 non-null float64\n",
      "V12       284807 non-null float64\n",
      "V13       284807 non-null float64\n",
      "V14       284807 non-null float64\n",
      "V15       284807 non-null float64\n",
      "V16       284807 non-null float64\n",
      "V17       284807 non-null float64\n",
      "V18       284807 non-null float64\n",
      "V19       284807 non-null float64\n",
      "V20       284807 non-null float64\n",
      "V21       284807 non-null float64\n",
      "V22       284807 non-null float64\n",
      "V23       284807 non-null float64\n",
      "V24       284807 non-null float64\n",
      "V25       284807 non-null float64\n",
      "V26       284807 non-null float64\n",
      "V27       284807 non-null float64\n",
      "V28       284807 non-null float64\n",
      "Amount    284807 non-null float64\n",
      "Class     284807 non-null int64\n",
      "dtypes: float64(30), int64(1)\n",
      "memory usage: 67.4 MB\n"
     ]
    }
   ],
   "source": [
    "#features and info.\n",
    "data.info()"
   ]
  },
  {
   "cell_type": "code",
   "execution_count": 4,
   "metadata": {},
   "outputs": [
    {
     "data": {
      "text/plain": [
       "0    284315\n",
       "1       492\n",
       "Name: Class, dtype: int64"
      ]
     },
     "execution_count": 4,
     "metadata": {},
     "output_type": "execute_result"
    }
   ],
   "source": [
    "data['Class'].value_counts()\n",
    "# class imbalance problem"
   ]
  },
  {
   "cell_type": "code",
   "execution_count": 7,
   "metadata": {},
   "outputs": [],
   "source": [
    "#sns.kdeplot(data['V1'])"
   ]
  },
  {
   "cell_type": "code",
   "execution_count": 8,
   "metadata": {},
   "outputs": [
    {
     "data": {
      "text/plain": [
       "<matplotlib.axes._subplots.AxesSubplot at 0x7fcd361f5320>"
      ]
     },
     "execution_count": 8,
     "metadata": {},
     "output_type": "execute_result"
    },
    {
     "data": {
      "image/png": "[encoded data removed]",
      "text/plain": [
       "<Figure size 1440x720 with 2 Axes>"
      ]
     },
     "metadata": {},
     "output_type": "display_data"
    }
   ],
   "source": [
    "# Heatmap of all the features\n",
    "plt.figure(figsize=(20,10))\n",
    "corr=data.corr()\n",
    "sns.heatmap(corr, \n",
    "        xticklabels=corr.columns,\n",
    "        yticklabels=corr.columns)"
   ]
  },
  {
   "cell_type": "code",
   "execution_count": 9,
   "metadata": {},
   "outputs": [
    {
     "data": {
      "text/html": [
       "<div>\n",
       "<style scoped>\n",
       "    .dataframe tbody tr th:only-of-type {\n",
       "        vertical-align: middle;\n",
       "    }\n",
       "\n",
       "    .dataframe tbody tr th {\n",
       "        vertical-align: top;\n",
       "    }\n",
       "\n",
       "    .dataframe thead th {\n",
       "        text-align: right;\n",
       "    }\n",
       "</style>\n",
       "<table border=\"1\" class=\"dataframe\">\n",
       "  <thead>\n",
       "    <tr style=\"text-align: right;\">\n",
       "      <th></th>\n",
       "      <th>V1</th>\n",
       "      <th>V2</th>\n",
       "      <th>V3</th>\n",
       "      <th>V4</th>\n",
       "      <th>V5</th>\n",
       "      <th>V6</th>\n",
       "      <th>V7</th>\n",
       "      <th>V8</th>\n",
       "      <th>V9</th>\n",
       "      <th>V10</th>\n",
       "      <th>...</th>\n",
       "      <th>V23</th>\n",
       "      <th>V24</th>\n",
       "      <th>V25</th>\n",
       "      <th>V26</th>\n",
       "      <th>V27</th>\n",
       "      <th>V28</th>\n",
       "      <th>Amount</th>\n",
       "      <th>Class</th>\n",
       "      <th>Hour</th>\n",
       "      <th>Minutes</th>\n",
       "    </tr>\n",
       "  </thead>\n",
       "  <tbody>\n",
       "    <tr>\n",
       "      <th>0</th>\n",
       "      <td>-0.023101</td>\n",
       "      <td>-0.000768</td>\n",
       "      <td>0.043951</td>\n",
       "      <td>0.061092</td>\n",
       "      <td>-0.002278</td>\n",
       "      <td>0.004649</td>\n",
       "      <td>0.001460</td>\n",
       "      <td>0.001059</td>\n",
       "      <td>0.012532</td>\n",
       "      <td>0.001878</td>\n",
       "      <td>...</td>\n",
       "      <td>-0.001641</td>\n",
       "      <td>0.009019</td>\n",
       "      <td>0.007215</td>\n",
       "      <td>-0.030892</td>\n",
       "      <td>0.002465</td>\n",
       "      <td>-0.000427</td>\n",
       "      <td>0.002385</td>\n",
       "      <td>0</td>\n",
       "      <td>0.0</td>\n",
       "      <td>0.0</td>\n",
       "    </tr>\n",
       "    <tr>\n",
       "      <th>1</th>\n",
       "      <td>0.020248</td>\n",
       "      <td>0.002808</td>\n",
       "      <td>0.002885</td>\n",
       "      <td>0.019866</td>\n",
       "      <td>0.000404</td>\n",
       "      <td>-0.000828</td>\n",
       "      <td>-0.000480</td>\n",
       "      <td>0.000913</td>\n",
       "      <td>-0.008799</td>\n",
       "      <td>-0.003455</td>\n",
       "      <td>...</td>\n",
       "      <td>0.001504</td>\n",
       "      <td>-0.045794</td>\n",
       "      <td>0.009384</td>\n",
       "      <td>0.020565</td>\n",
       "      <td>-0.000166</td>\n",
       "      <td>0.000299</td>\n",
       "      <td>-0.003334</td>\n",
       "      <td>0</td>\n",
       "      <td>0.0</td>\n",
       "      <td>0.0</td>\n",
       "    </tr>\n",
       "    <tr>\n",
       "      <th>2</th>\n",
       "      <td>-0.023077</td>\n",
       "      <td>-0.014141</td>\n",
       "      <td>0.030727</td>\n",
       "      <td>0.016835</td>\n",
       "      <td>-0.003388</td>\n",
       "      <td>0.018102</td>\n",
       "      <td>0.004822</td>\n",
       "      <td>0.002657</td>\n",
       "      <td>-0.052177</td>\n",
       "      <td>0.004296</td>\n",
       "      <td>...</td>\n",
       "      <td>0.013506</td>\n",
       "      <td>-0.092880</td>\n",
       "      <td>-0.018391</td>\n",
       "      <td>-0.022721</td>\n",
       "      <td>-0.001022</td>\n",
       "      <td>-0.001213</td>\n",
       "      <td>0.011300</td>\n",
       "      <td>0</td>\n",
       "      <td>0.0</td>\n",
       "      <td>0.0</td>\n",
       "    </tr>\n",
       "    <tr>\n",
       "      <th>3</th>\n",
       "      <td>-0.016416</td>\n",
       "      <td>-0.001954</td>\n",
       "      <td>0.031070</td>\n",
       "      <td>-0.038269</td>\n",
       "      <td>-0.000069</td>\n",
       "      <td>0.012539</td>\n",
       "      <td>0.001448</td>\n",
       "      <td>0.004049</td>\n",
       "      <td>-0.047781</td>\n",
       "      <td>-0.001137</td>\n",
       "      <td>...</td>\n",
       "      <td>-0.002826</td>\n",
       "      <td>-0.158408</td>\n",
       "      <td>0.036339</td>\n",
       "      <td>-0.036252</td>\n",
       "      <td>0.001158</td>\n",
       "      <td>0.001247</td>\n",
       "      <td>0.001368</td>\n",
       "      <td>0</td>\n",
       "      <td>0.0</td>\n",
       "      <td>0.0</td>\n",
       "    </tr>\n",
       "    <tr>\n",
       "      <th>4</th>\n",
       "      <td>-0.019677</td>\n",
       "      <td>0.009261</td>\n",
       "      <td>0.026837</td>\n",
       "      <td>0.017866</td>\n",
       "      <td>-0.002741</td>\n",
       "      <td>0.000964</td>\n",
       "      <td>0.003612</td>\n",
       "      <td>-0.002902</td>\n",
       "      <td>0.028170</td>\n",
       "      <td>0.015581</td>\n",
       "      <td>...</td>\n",
       "      <td>-0.002041</td>\n",
       "      <td>0.019036</td>\n",
       "      <td>-0.011564</td>\n",
       "      <td>0.082048</td>\n",
       "      <td>0.004050</td>\n",
       "      <td>0.004366</td>\n",
       "      <td>-0.000715</td>\n",
       "      <td>0</td>\n",
       "      <td>0.0</td>\n",
       "      <td>0.0</td>\n",
       "    </tr>\n",
       "  </tbody>\n",
       "</table>\n",
       "<p>5 rows × 32 columns</p>\n",
       "</div>"
      ],
      "text/plain": [
       "         V1        V2        V3        V4        V5        V6        V7  \\\n",
       "0 -0.023101 -0.000768  0.043951  0.061092 -0.002278  0.004649  0.001460   \n",
       "1  0.020248  0.002808  0.002885  0.019866  0.000404 -0.000828 -0.000480   \n",
       "2 -0.023077 -0.014141  0.030727  0.016835 -0.003388  0.018102  0.004822   \n",
       "3 -0.016416 -0.001954  0.031070 -0.038269 -0.000069  0.012539  0.001448   \n",
       "4 -0.019677  0.009261  0.026837  0.017866 -0.002741  0.000964  0.003612   \n",
       "\n",
       "         V8        V9       V10   ...          V23       V24       V25  \\\n",
       "0  0.001059  0.012532  0.001878   ...    -0.001641  0.009019  0.007215   \n",
       "1  0.000913 -0.008799 -0.003455   ...     0.001504 -0.045794  0.009384   \n",
       "2  0.002657 -0.052177  0.004296   ...     0.013506 -0.092880 -0.018391   \n",
       "3  0.004049 -0.047781 -0.001137   ...    -0.002826 -0.158408  0.036339   \n",
       "4 -0.002902  0.028170  0.015581   ...    -0.002041  0.019036 -0.011564   \n",
       "\n",
       "        V26       V27       V28    Amount  Class  Hour  Minutes  \n",
       "0 -0.030892  0.002465 -0.000427  0.002385      0   0.0      0.0  \n",
       "1  0.020565 -0.000166  0.000299 -0.003334      0   0.0      0.0  \n",
       "2 -0.022721 -0.001022 -0.001213  0.011300      0   0.0      0.0  \n",
       "3 -0.036252  0.001158  0.001247  0.001368      0   0.0      0.0  \n",
       "4  0.082048  0.004050  0.004366 -0.000715      0   0.0      0.0  \n",
       "\n",
       "[5 rows x 32 columns]"
      ]
     },
     "execution_count": 9,
     "metadata": {},
     "output_type": "execute_result"
    }
   ],
   "source": [
    "#normalising data except time and class columns\n",
    "data2= (data.iloc[:,1:-1] - data.iloc[:,1:-1].mean()) / (data.iloc[:,1:-1].max() - data.iloc[:,1:-1].min())\n",
    "data2['Class']=data['Class']\n",
    "\n",
    "#Converting time in seconds to minutes and hours \n",
    "data2['Hour'] = data['Time'] //3600\n",
    "data2['Minutes'] = data['Time'] //60\n",
    "data2['Hour'].replace(-0,0,inplace=True)\n",
    "data2['Minutes'].replace(-0,0,inplace=True)\n",
    "\n",
    "data=data2\n",
    "data.head()"
   ]
  },
  {
   "cell_type": "code",
   "execution_count": 10,
   "metadata": {},
   "outputs": [
    {
     "data": {
      "text/plain": [
       "<matplotlib.axes._subplots.AxesSubplot at 0x7fcd40534470>"
      ]
     },
     "execution_count": 10,
     "metadata": {},
     "output_type": "execute_result"
    },
    {
     "data": {
      "image/png": "[encoded data removed]",
      "text/plain": [
       "<Figure size 1080x576 with 1 Axes>"
      ]
     },
     "metadata": {},
     "output_type": "display_data"
    }
   ],
   "source": [
    "# Hourly frauds\n",
    "plt.figure(figsize=(15,8))\n",
    "sns.countplot(data[data['Class']==1]['Hour'])"
   ]
  },
  {
   "cell_type": "code",
   "execution_count": 11,
   "metadata": {},
   "outputs": [
    {
     "data": {
      "text/plain": [
       "<matplotlib.axes._subplots.AxesSubplot at 0x7fcd35c5b198>"
      ]
     },
     "execution_count": 11,
     "metadata": {},
     "output_type": "execute_result"
    },
    {
     "data": {
      "image/png": "[encoded data removed]",
      "text/plain": [
       "<Figure size 1080x576 with 1 Axes>"
      ]
     },
     "metadata": {},
     "output_type": "display_data"
    }
   ],
   "source": [
    "# Hourly non frauds\n",
    "plt.figure(figsize=(15,8))\n",
    "sns.countplot(data[data['Class']==0]['Hour'])"
   ]
  },
  {
   "cell_type": "code",
   "execution_count": 12,
   "metadata": {},
   "outputs": [
    {
     "data": {
      "text/plain": [
       "<matplotlib.axes._subplots.AxesSubplot at 0x7fcd35b4a198>"
      ]
     },
     "execution_count": 12,
     "metadata": {},
     "output_type": "execute_result"
    },
    {
     "data": {
      "image/png": "[encoded data removed]",
      "text/plain": [
       "<Figure size 1080x576 with 1 Axes>"
      ]
     },
     "metadata": {},
     "output_type": "display_data"
    }
   ],
   "source": [
    "# Fraudalent and Genuine transaction amounts  (Boxplot)\n",
    "plt.figure(figsize=(15,8))\n",
    "sns.boxplot(x=data['Class'],y=data['Amount'])"
   ]
  },
  {
   "cell_type": "markdown",
   "metadata": {},
   "source": [
    "# Metric function(sarab sir)"
   ]
  },
  {
   "cell_type": "code",
   "execution_count": 4,
   "metadata": {},
   "outputs": [],
   "source": [
    "from sklearn.metrics import confusion_matrix,precision_recall_fscore_support\n",
    "from sklearn.metrics import accuracy_score, roc_auc_score\n",
    "def get_performance_metrics(y_test,model_predictions):\n",
    "    # Accuracy\n",
    "    model_accuracy = accuracy_score(y_test,model_predictions)\n",
    "    print(\"Accuracy is \", model_accuracy)\n",
    "\n",
    "    # precision, recall, f1 score\n",
    "    model_precision, model_recall, model_f1, _ = precision_recall_fscore_support(y_test,model_predictions)\n",
    "    print('Precision for each class is ', model_precision)\n",
    "    print('Recall/sensitivity for each class is ', model_recall)\n",
    "    print('F1 Score for each class is ', model_f1)\n",
    "\n",
    "    # roc_auc\n",
    "    model_roc_auc = roc_auc_score(y_test,model_predictions)\n",
    "    print('AUC-ROC score is ', model_roc_auc)\n",
    "\n",
    "    # confusion matrix\n",
    "    model_confusion_matrix = confusion_matrix(y_test,model_predictions)\n",
    "    print('confusion matrix is :-->')\n",
    "    print(model_confusion_matrix)\n",
    "    "
   ]
  },
  {
   "cell_type": "markdown",
   "metadata": {},
   "source": [
    "# Splitting data"
   ]
  },
  {
   "cell_type": "code",
   "execution_count": 45,
   "metadata": {},
   "outputs": [],
   "source": [
    "# Separate input features (X) and target variable (y)\n",
    "\n",
    "y = data.Class\n",
    "X = data.drop('Class', axis=1)\n",
    "\n",
    "\n",
    "from sklearn.model_selection import train_test_split\n",
    "X_train, X_test, y_train, y_test = train_test_split(X, y, test_size=0.2)\n"
   ]
  },
  {
   "cell_type": "markdown",
   "metadata": {},
   "source": [
    "# Oversampling train data"
   ]
  },
  {
   "cell_type": "code",
   "execution_count": 42,
   "metadata": {},
   "outputs": [
    {
     "data": {
      "text/plain": [
       "1    227440\n",
       "0    227440\n",
       "Name: Class, dtype: int64"
      ]
     },
     "execution_count": 42,
     "metadata": {},
     "output_type": "execute_result"
    }
   ],
   "source": [
    "from sklearn.utils import resample\n",
    "\n",
    "dt=pd.DataFrame(X_train)\n",
    "dt['Class']=y_train\n",
    "\n",
    "# Separate majority and minority classes\n",
    "df_majority = dt[dt.Class==0]\n",
    "df_minority = dt[dt.Class==1]\n",
    "\n",
    "# Upsample minority class\n",
    "df_minority_upsampled = resample(df_minority, \n",
    "                                 replace=True,     # sample with replacement\n",
    "                                 n_samples=df_majority.shape[0],    # to match majority class\n",
    "                                 random_state=123) # reproducible results\n",
    " \n",
    "# Combine majority class with upsampled minority class\n",
    "df_upsampled = pd.concat([df_majority, df_minority_upsampled])\n",
    " \n",
    "# Display new class counts\n",
    "df_upsampled.Class.value_counts()"
   ]
  },
  {
   "cell_type": "markdown",
   "metadata": {},
   "source": [
    "# Logistic Regression with oversampling"
   ]
  },
  {
   "cell_type": "code",
   "execution_count": 43,
   "metadata": {},
   "outputs": [
    {
     "name": "stdout",
     "output_type": "stream",
     "text": [
      "Accuracy is  0.97133176503634\n",
      "Precision for each class is  [0.99981904 0.04529412]\n",
      "Recall/sensitivity for each class is  [0.97146374 0.88505747]\n",
      "F1 Score for each class is  [0.98543746 0.08617795]\n",
      "AUC-ROC score is  0.9282606037640521\n",
      "confusion matrix is :-->\n",
      "[[55252  1623]\n",
      " [   10    77]]\n"
     ]
    }
   ],
   "source": [
    "from sklearn.linear_model import LogisticRegression\n",
    "\n",
    "\n",
    "y_traino = df_upsampled.Class\n",
    "X_traino = df_upsampled.drop('Class', axis=1)\n",
    "\n",
    "# Train model\n",
    "clf_1 = LogisticRegression().fit(X_traino, y_traino)\n",
    " \n",
    "# Predict\n",
    "pred_y_1 = clf_1.predict(X_test)\n",
    " \n",
    "get_performance_metrics(y_test, pred_y_1)"
   ]
  },
  {
   "cell_type": "markdown",
   "metadata": {},
   "source": [
    "# Logistic regression with smote"
   ]
  },
  {
   "cell_type": "code",
   "execution_count": 46,
   "metadata": {},
   "outputs": [
    {
     "name": "stdout",
     "output_type": "stream",
     "text": [
      "Accuracy is  0.9856746602998491\n",
      "Precision for each class is  [0.99980386 0.08522727]\n",
      "Recall/sensitivity for each class is  [0.9858464  0.87209302]\n",
      "F1 Score for each class is  [0.99277608 0.1552795 ]\n",
      "AUC-ROC score is  0.9289697129782128\n",
      "confusion matrix is :-->\n",
      "[[56071   805]\n",
      " [   11    75]]\n"
     ]
    }
   ],
   "source": [
    "from imblearn.over_sampling import SMOTE\n",
    "smt = SMOTE()\n",
    "X_train, y_train = smt.fit_sample(X_train, y_train)\n",
    "\n",
    "# Train model\n",
    "clf_1 = LogisticRegression().fit(X_train, y_train)\n",
    " \n",
    "# Predict\n",
    "pred_y_1 = clf_1.predict(X_test)\n",
    " \n",
    "get_performance_metrics(y_test, pred_y_1)"
   ]
  },
  {
   "cell_type": "markdown",
   "metadata": {},
   "source": [
    "#SVM (not running)"
   ]
  },
  {
   "cell_type": "code",
   "execution_count": null,
   "metadata": {},
   "outputs": [],
   "source": [
    "y = data.Class\n",
    "X = data.drop('Class', axis=1)\n",
    "\n",
    "from sklearn.model_selection import train_test_split\n",
    "X_train, X_test, y_train, y_test = train_test_split(X, y, test_size=0.2)\n",
    "\n",
    "from sklearn.svm import SVC\n",
    "svc_model = SVC(kernel='linear', \n",
    "            class_weight='balanced', # penalize,   class_weight={0: 100,1: 1}\n",
    "            probability=True)\n",
    "svc_model.fit(X_train,y_train)\n",
    "svc_predictions = svc_model.predict(X_test)\n",
    "get_performance_metrics(y_test,svc_predictions)"
   ]
  },
  {
   "cell_type": "markdown",
   "metadata": {},
   "source": [
    "# Random Forest"
   ]
  },
  {
   "cell_type": "code",
   "execution_count": 1,
   "metadata": {},
   "outputs": [],
   "source": [
    "from sklearn.ensemble import RandomForestClassifier"
   ]
  },
  {
   "cell_type": "code",
   "execution_count": 5,
   "metadata": {},
   "outputs": [],
   "source": [
    "y = data.Class\n",
    "X = data.drop('Class', axis=1)\n",
    "from sklearn.model_selection import train_test_split\n",
    "X_train, X_test, y_train, y_test = train_test_split(X, y, test_size=0.2)\n",
    "# Train model\n",
    "clf_4 = RandomForestClassifier()\n",
    "clf_4.fit(X_train, y_train)\n",
    " # Predict on training set\n",
    "pred_y_4 = clf_4.predict(X_test)"
   ]
  },
  {
   "cell_type": "code",
   "execution_count": 10,
   "metadata": {},
   "outputs": [
    {
     "name": "stdout",
     "output_type": "stream",
     "text": [
      "Accuracy is  0.9993679997191109\n",
      "Precision for each class is  [0.99945505 0.93421053]\n",
      "Recall/sensitivity for each class is  [0.99991206 0.69607843]\n",
      "F1 Score for each class is  [0.99968351 0.79775281]\n",
      "AUC-ROC score is  0.8479952480464573\n",
      "confusion matrix is :-->\n",
      "[[56855     5]\n",
      " [   31    71]]\n"
     ]
    }
   ],
   "source": [
    "get_performance_metrics(y_test,pred_y_4)"
   ]
  },
  {
   "cell_type": "markdown",
   "metadata": {},
   "source": [
    "# smote on original data"
   ]
  },
  {
   "cell_type": "code",
   "execution_count": 5,
   "metadata": {},
   "outputs": [],
   "source": [
    "from imblearn.over_sampling import SMOTE\n",
    "smt = SMOTE()\n",
    "y_t = data.Class\n",
    "X_t = data.drop('Class', axis=1)\n",
    "X_t, y_t = smt.fit_sample(X_t, y_t)"
   ]
  },
  {
   "cell_type": "code",
   "execution_count": 8,
   "metadata": {},
   "outputs": [
    {
     "data": {
      "text/plain": [
       "568630"
      ]
     },
     "execution_count": 8,
     "metadata": {},
     "output_type": "execute_result"
    }
   ],
   "source": [
    "len(pd.DataFrame(X_t))"
   ]
  },
  {
   "cell_type": "code",
   "execution_count": null,
   "metadata": {},
   "outputs": [],
   "source": []
  }
 ],
 "metadata": {
  "kernelspec": {
   "display_name": "Python 3",
   "language": "python",
   "name": "python3"
  },
  "language_info": {
   "codemirror_mode": {
    "name": "ipython",
    "version": 3
   },
   "file_extension": ".py",
   "mimetype": "text/x-python",
   "name": "python",
   "nbconvert_exporter": "python",
   "pygments_lexer": "ipython3",
   "version": "3.6.5"
  }
 },
 "nbformat": 4,
 "nbformat_minor": 2
}
